{
 "cells": [
  {
   "cell_type": "markdown",
   "metadata": {},
   "source": [
    "En este script se realiza la limpieza y preparación de los datos antes de analizarlos"
   ]
  },
  {
   "cell_type": "code",
   "execution_count": 1,
   "metadata": {},
   "outputs": [],
   "source": [
    "# Librerías\n",
    "import pandas as pd\n",
    "import numpy as np"
   ]
  },
  {
   "cell_type": "code",
   "execution_count": 2,
   "metadata": {},
   "outputs": [],
   "source": [
    "# Cargar los datos desde el directorio principal\n",
    "df_games = pd.read_csv('df_games.csv')\n"
   ]
  },
  {
   "cell_type": "code",
   "execution_count": 3,
   "metadata": {},
   "outputs": [
    {
     "name": "stdout",
     "output_type": "stream",
     "text": [
      "<class 'pandas.core.frame.DataFrame'>\n",
      "RangeIndex: 16715 entries, 0 to 16714\n",
      "Data columns (total 11 columns):\n",
      " #   Column           Non-Null Count  Dtype  \n",
      "---  ------           --------------  -----  \n",
      " 0   Name             16713 non-null  object \n",
      " 1   Platform         16715 non-null  object \n",
      " 2   Year_of_Release  16446 non-null  float64\n",
      " 3   Genre            16713 non-null  object \n",
      " 4   NA_sales         16715 non-null  float64\n",
      " 5   EU_sales         16715 non-null  float64\n",
      " 6   JP_sales         16715 non-null  float64\n",
      " 7   Other_sales      16715 non-null  float64\n",
      " 8   Critic_Score     8137 non-null   float64\n",
      " 9   User_Score       10014 non-null  object \n",
      " 10  Rating           9949 non-null   object \n",
      "dtypes: float64(6), object(5)\n",
      "memory usage: 1.4+ MB\n"
     ]
    }
   ],
   "source": [
    "# ver info\n",
    "df_games.info()"
   ]
  },
  {
   "cell_type": "code",
   "execution_count": 4,
   "metadata": {},
   "outputs": [
    {
     "data": {
      "text/html": [
       "<div>\n",
       "<style scoped>\n",
       "    .dataframe tbody tr th:only-of-type {\n",
       "        vertical-align: middle;\n",
       "    }\n",
       "\n",
       "    .dataframe tbody tr th {\n",
       "        vertical-align: top;\n",
       "    }\n",
       "\n",
       "    .dataframe thead th {\n",
       "        text-align: right;\n",
       "    }\n",
       "</style>\n",
       "<table border=\"1\" class=\"dataframe\">\n",
       "  <thead>\n",
       "    <tr style=\"text-align: right;\">\n",
       "      <th></th>\n",
       "      <th>Name</th>\n",
       "      <th>Platform</th>\n",
       "      <th>Year_of_Release</th>\n",
       "      <th>Genre</th>\n",
       "      <th>NA_sales</th>\n",
       "      <th>EU_sales</th>\n",
       "      <th>JP_sales</th>\n",
       "      <th>Other_sales</th>\n",
       "      <th>Critic_Score</th>\n",
       "      <th>User_Score</th>\n",
       "      <th>Rating</th>\n",
       "    </tr>\n",
       "  </thead>\n",
       "  <tbody>\n",
       "    <tr>\n",
       "      <th>13379</th>\n",
       "      <td>Crusader: No Remorse</td>\n",
       "      <td>PS</td>\n",
       "      <td>1996.0</td>\n",
       "      <td>Adventure</td>\n",
       "      <td>0.03</td>\n",
       "      <td>0.02</td>\n",
       "      <td>0.00</td>\n",
       "      <td>0.00</td>\n",
       "      <td>NaN</td>\n",
       "      <td>NaN</td>\n",
       "      <td>NaN</td>\n",
       "    </tr>\n",
       "    <tr>\n",
       "      <th>9049</th>\n",
       "      <td>Front Mission Alternative</td>\n",
       "      <td>PS</td>\n",
       "      <td>1997.0</td>\n",
       "      <td>Strategy</td>\n",
       "      <td>0.00</td>\n",
       "      <td>0.00</td>\n",
       "      <td>0.13</td>\n",
       "      <td>0.01</td>\n",
       "      <td>NaN</td>\n",
       "      <td>NaN</td>\n",
       "      <td>NaN</td>\n",
       "    </tr>\n",
       "    <tr>\n",
       "      <th>4251</th>\n",
       "      <td>Crayola: Treasure Adventures</td>\n",
       "      <td>DS</td>\n",
       "      <td>2007.0</td>\n",
       "      <td>Puzzle</td>\n",
       "      <td>0.42</td>\n",
       "      <td>0.01</td>\n",
       "      <td>0.00</td>\n",
       "      <td>0.03</td>\n",
       "      <td>65.0</td>\n",
       "      <td>tbd</td>\n",
       "      <td>E</td>\n",
       "    </tr>\n",
       "    <tr>\n",
       "      <th>4432</th>\n",
       "      <td>Naruto: Gekito Ninja Taisen! 3</td>\n",
       "      <td>GC</td>\n",
       "      <td>2004.0</td>\n",
       "      <td>Fighting</td>\n",
       "      <td>0.00</td>\n",
       "      <td>0.00</td>\n",
       "      <td>0.43</td>\n",
       "      <td>0.01</td>\n",
       "      <td>NaN</td>\n",
       "      <td>NaN</td>\n",
       "      <td>NaN</td>\n",
       "    </tr>\n",
       "    <tr>\n",
       "      <th>2904</th>\n",
       "      <td>Star Wars: Obi-Wan</td>\n",
       "      <td>XB</td>\n",
       "      <td>2001.0</td>\n",
       "      <td>Action</td>\n",
       "      <td>0.52</td>\n",
       "      <td>0.16</td>\n",
       "      <td>0.00</td>\n",
       "      <td>0.02</td>\n",
       "      <td>58.0</td>\n",
       "      <td>5.9</td>\n",
       "      <td>T</td>\n",
       "    </tr>\n",
       "    <tr>\n",
       "      <th>7676</th>\n",
       "      <td>Sid Meier's Pirates!</td>\n",
       "      <td>PSP</td>\n",
       "      <td>2007.0</td>\n",
       "      <td>Strategy</td>\n",
       "      <td>0.16</td>\n",
       "      <td>0.01</td>\n",
       "      <td>0.00</td>\n",
       "      <td>0.02</td>\n",
       "      <td>NaN</td>\n",
       "      <td>NaN</td>\n",
       "      <td>NaN</td>\n",
       "    </tr>\n",
       "    <tr>\n",
       "      <th>4961</th>\n",
       "      <td>Sonic &amp; All-Stars Racing Transformed</td>\n",
       "      <td>PSV</td>\n",
       "      <td>2012.0</td>\n",
       "      <td>Racing</td>\n",
       "      <td>0.09</td>\n",
       "      <td>0.20</td>\n",
       "      <td>0.00</td>\n",
       "      <td>0.09</td>\n",
       "      <td>NaN</td>\n",
       "      <td>NaN</td>\n",
       "      <td>NaN</td>\n",
       "    </tr>\n",
       "    <tr>\n",
       "      <th>11253</th>\n",
       "      <td>Astro Boy</td>\n",
       "      <td>PS2</td>\n",
       "      <td>2004.0</td>\n",
       "      <td>Action</td>\n",
       "      <td>0.04</td>\n",
       "      <td>0.03</td>\n",
       "      <td>0.00</td>\n",
       "      <td>0.01</td>\n",
       "      <td>54.0</td>\n",
       "      <td>6.9</td>\n",
       "      <td>E</td>\n",
       "    </tr>\n",
       "    <tr>\n",
       "      <th>12160</th>\n",
       "      <td>Major League Baseball 2K10</td>\n",
       "      <td>PSP</td>\n",
       "      <td>2010.0</td>\n",
       "      <td>Sports</td>\n",
       "      <td>0.06</td>\n",
       "      <td>0.00</td>\n",
       "      <td>0.00</td>\n",
       "      <td>0.01</td>\n",
       "      <td>NaN</td>\n",
       "      <td>tbd</td>\n",
       "      <td>E</td>\n",
       "    </tr>\n",
       "    <tr>\n",
       "      <th>12436</th>\n",
       "      <td>There</td>\n",
       "      <td>PS</td>\n",
       "      <td>2002.0</td>\n",
       "      <td>Simulation</td>\n",
       "      <td>0.03</td>\n",
       "      <td>0.02</td>\n",
       "      <td>0.00</td>\n",
       "      <td>0.00</td>\n",
       "      <td>NaN</td>\n",
       "      <td>NaN</td>\n",
       "      <td>NaN</td>\n",
       "    </tr>\n",
       "  </tbody>\n",
       "</table>\n",
       "</div>"
      ],
      "text/plain": [
       "                                       Name Platform  Year_of_Release  \\\n",
       "13379                  Crusader: No Remorse       PS           1996.0   \n",
       "9049              Front Mission Alternative       PS           1997.0   \n",
       "4251           Crayola: Treasure Adventures       DS           2007.0   \n",
       "4432         Naruto: Gekito Ninja Taisen! 3       GC           2004.0   \n",
       "2904                     Star Wars: Obi-Wan       XB           2001.0   \n",
       "7676                   Sid Meier's Pirates!      PSP           2007.0   \n",
       "4961   Sonic & All-Stars Racing Transformed      PSV           2012.0   \n",
       "11253                             Astro Boy      PS2           2004.0   \n",
       "12160            Major League Baseball 2K10      PSP           2010.0   \n",
       "12436                                 There       PS           2002.0   \n",
       "\n",
       "            Genre  NA_sales  EU_sales  JP_sales  Other_sales  Critic_Score  \\\n",
       "13379   Adventure      0.03      0.02      0.00         0.00           NaN   \n",
       "9049     Strategy      0.00      0.00      0.13         0.01           NaN   \n",
       "4251       Puzzle      0.42      0.01      0.00         0.03          65.0   \n",
       "4432     Fighting      0.00      0.00      0.43         0.01           NaN   \n",
       "2904       Action      0.52      0.16      0.00         0.02          58.0   \n",
       "7676     Strategy      0.16      0.01      0.00         0.02           NaN   \n",
       "4961       Racing      0.09      0.20      0.00         0.09           NaN   \n",
       "11253      Action      0.04      0.03      0.00         0.01          54.0   \n",
       "12160      Sports      0.06      0.00      0.00         0.01           NaN   \n",
       "12436  Simulation      0.03      0.02      0.00         0.00           NaN   \n",
       "\n",
       "      User_Score Rating  \n",
       "13379        NaN    NaN  \n",
       "9049         NaN    NaN  \n",
       "4251         tbd      E  \n",
       "4432         NaN    NaN  \n",
       "2904         5.9      T  \n",
       "7676         NaN    NaN  \n",
       "4961         NaN    NaN  \n",
       "11253        6.9      E  \n",
       "12160        tbd      E  \n",
       "12436        NaN    NaN  "
      ]
     },
     "execution_count": 4,
     "metadata": {},
     "output_type": "execute_result"
    }
   ],
   "source": [
    "df_games.sample(10)"
   ]
  },
  {
   "cell_type": "code",
   "execution_count": 5,
   "metadata": {},
   "outputs": [
    {
     "data": {
      "text/plain": [
       "Index(['name', 'platform', 'year_of_release', 'genre', 'na_sales', 'eu_sales',\n",
       "       'jp_sales', 'other_sales', 'critic_score', 'user_score', 'rating'],\n",
       "      dtype='object')"
      ]
     },
     "execution_count": 5,
     "metadata": {},
     "output_type": "execute_result"
    }
   ],
   "source": [
    "df_games.columns = df_games.columns.str.lower()\n",
    "df_games.columns\n"
   ]
  },
  {
   "cell_type": "markdown",
   "metadata": {},
   "source": [
    "Columna 'year_of_release'"
   ]
  },
  {
   "cell_type": "code",
   "execution_count": 6,
   "metadata": {},
   "outputs": [
    {
     "data": {
      "text/plain": [
       "dtype('int64')"
      ]
     },
     "execution_count": 6,
     "metadata": {},
     "output_type": "execute_result"
    }
   ],
   "source": [
    "# Year of release a int\n",
    "df_games['year_of_release'] = df_games['year_of_release'].fillna(0).astype('int')  # Llena con 0\n",
    "\n",
    "df_games['year_of_release'] = pd.to_numeric(df_games['year_of_release'], errors='coerce').fillna(0).astype('int')\n",
    "df_games['year_of_release'].dtypes\n"
   ]
  },
  {
   "cell_type": "markdown",
   "metadata": {},
   "source": [
    "Columna 'user_score'"
   ]
  },
  {
   "cell_type": "code",
   "execution_count": 7,
   "metadata": {},
   "outputs": [
    {
     "name": "stdout",
     "output_type": "stream",
     "text": [
      "<class 'pandas.core.series.Series'>\n",
      "RangeIndex: 16715 entries, 0 to 16714\n",
      "Series name: user_score\n",
      "Non-Null Count  Dtype  \n",
      "--------------  -----  \n",
      "7590 non-null   float64\n",
      "dtypes: float64(1)\n",
      "memory usage: 130.7 KB\n"
     ]
    }
   ],
   "source": [
    "# Columna 'user_score' a float\n",
    "\n",
    "df_games['user_score'].unique()\n",
    "df_games['user_score'] = df_games['user_score'].replace('tbd', np.nan)\n",
    "df_games['user_score'] = df_games['user_score'].astype(float)\n",
    "df_games.user_score.info()"
   ]
  },
  {
   "cell_type": "markdown",
   "metadata": {},
   "source": [
    "Columna 'name'"
   ]
  },
  {
   "cell_type": "code",
   "execution_count": 8,
   "metadata": {},
   "outputs": [
    {
     "data": {
      "text/plain": [
       "np.False_"
      ]
     },
     "execution_count": 8,
     "metadata": {},
     "output_type": "execute_result"
    }
   ],
   "source": [
    "# Datos faltantes en 'name'  \n",
    "df_games['name'] = df_games['name'].fillna('NOT DEFINED')\n",
    "df_games['name'] = df_games['name'].str.upper()\n",
    "df_games['name'] = df_games['name'].str.replace(',', '').str.replace('.', '').str.replace(';','').str.replace(':','')\n",
    "df_games['name'] = df_games['name'].str.strip(' ')\n",
    "df_games.name.isna().any()"
   ]
  },
  {
   "cell_type": "code",
   "execution_count": null,
   "metadata": {},
   "outputs": [
    {
     "data": {
      "text/plain": [
       "820           POKEMON MYSTERY DUNGEON RED/BLUE RESCUE TEAM\n",
       "10688                                             NBA 2K16\n",
       "12431                                 STRIKE FORCE BOWLING\n",
       "6167                              DISNEY'S TREASURE PLANET\n",
       "14375                                     SONG OF THE DEEP\n",
       "538                                          BATTLEFIELD 3\n",
       "2943     TRANSFORMERS REVENGE OF THE FALLEN (XBOX 360 P...\n",
       "689                                        COOL BOARDERS 3\n",
       "353                                  STAR WARS BATTLEFRONT\n",
       "12921                                           4 ELEMENTS\n",
       "Name: name, dtype: object"
      ]
     },
     "execution_count": 9,
     "metadata": {},
     "output_type": "execute_result"
    }
   ],
   "source": [
    "df_games.name.sample(10)"
   ]
  },
  {
   "cell_type": "markdown",
   "metadata": {},
   "source": [
    "Columna 'genre'"
   ]
  },
  {
   "cell_type": "code",
   "execution_count": null,
   "metadata": {},
   "outputs": [
    {
     "data": {
      "text/plain": [
       "np.False_"
      ]
     },
     "execution_count": 10,
     "metadata": {},
     "output_type": "execute_result"
    }
   ],
   "source": [
    "# Datos faltantes en 'genre' \n",
    "df_games[df_games.genre.isnull()]\n",
    "df_games['genre'] = df_games['genre'].fillna('not defined')\n",
    "df_games.genre.isna().any()"
   ]
  },
  {
   "cell_type": "markdown",
   "metadata": {},
   "source": [
    "Columna 'user_score' y 'critic_score' en la misma nomenclatura"
   ]
  },
  {
   "cell_type": "code",
   "execution_count": 11,
   "metadata": {},
   "outputs": [
    {
     "data": {
      "text/html": [
       "<div>\n",
       "<style scoped>\n",
       "    .dataframe tbody tr th:only-of-type {\n",
       "        vertical-align: middle;\n",
       "    }\n",
       "\n",
       "    .dataframe tbody tr th {\n",
       "        vertical-align: top;\n",
       "    }\n",
       "\n",
       "    .dataframe thead th {\n",
       "        text-align: right;\n",
       "    }\n",
       "</style>\n",
       "<table border=\"1\" class=\"dataframe\">\n",
       "  <thead>\n",
       "    <tr style=\"text-align: right;\">\n",
       "      <th></th>\n",
       "      <th>user_score</th>\n",
       "      <th>critic_score</th>\n",
       "    </tr>\n",
       "  </thead>\n",
       "  <tbody>\n",
       "    <tr>\n",
       "      <th>count</th>\n",
       "      <td>7590.000000</td>\n",
       "      <td>8137.000000</td>\n",
       "    </tr>\n",
       "    <tr>\n",
       "      <th>mean</th>\n",
       "      <td>71.250461</td>\n",
       "      <td>68.967679</td>\n",
       "    </tr>\n",
       "    <tr>\n",
       "      <th>std</th>\n",
       "      <td>15.000061</td>\n",
       "      <td>13.938165</td>\n",
       "    </tr>\n",
       "    <tr>\n",
       "      <th>min</th>\n",
       "      <td>0.000000</td>\n",
       "      <td>13.000000</td>\n",
       "    </tr>\n",
       "    <tr>\n",
       "      <th>25%</th>\n",
       "      <td>64.000000</td>\n",
       "      <td>60.000000</td>\n",
       "    </tr>\n",
       "    <tr>\n",
       "      <th>50%</th>\n",
       "      <td>75.000000</td>\n",
       "      <td>71.000000</td>\n",
       "    </tr>\n",
       "    <tr>\n",
       "      <th>75%</th>\n",
       "      <td>82.000000</td>\n",
       "      <td>79.000000</td>\n",
       "    </tr>\n",
       "    <tr>\n",
       "      <th>max</th>\n",
       "      <td>97.000000</td>\n",
       "      <td>98.000000</td>\n",
       "    </tr>\n",
       "  </tbody>\n",
       "</table>\n",
       "</div>"
      ],
      "text/plain": [
       "        user_score  critic_score\n",
       "count  7590.000000   8137.000000\n",
       "mean     71.250461     68.967679\n",
       "std      15.000061     13.938165\n",
       "min       0.000000     13.000000\n",
       "25%      64.000000     60.000000\n",
       "50%      75.000000     71.000000\n",
       "75%      82.000000     79.000000\n",
       "max      97.000000     98.000000"
      ]
     },
     "execution_count": 11,
     "metadata": {},
     "output_type": "execute_result"
    }
   ],
   "source": [
    "df_games['user_score'] = df_games['user_score'] * 10\n",
    "df_games[['user_score', 'critic_score']].describe()\n"
   ]
  },
  {
   "cell_type": "markdown",
   "metadata": {},
   "source": [
    "Columna de ventas totales"
   ]
  },
  {
   "cell_type": "code",
   "execution_count": 12,
   "metadata": {},
   "outputs": [
    {
     "name": "stdout",
     "output_type": "stream",
     "text": [
      "   na_sales  jp_sales  eu_sales  other_sales  total_sales\n",
      "0     41.36      3.77     28.96         8.45        82.54\n",
      "1     29.08      6.81      3.58         0.77        40.24\n",
      "2     15.68      3.79     12.76         3.29        35.52\n",
      "3     15.61      3.28     10.93         2.95        32.77\n",
      "4     11.27     10.22      8.89         1.00        31.38\n"
     ]
    }
   ],
   "source": [
    "# Sumamos las ventas de todas las columnas y creamos una nueva con los totales\n",
    "\n",
    "df_games['total_sales'] = df_games[['na_sales', 'jp_sales', 'eu_sales', 'other_sales']].sum(axis=1)\n",
    "print(df_games[['na_sales', 'jp_sales', 'eu_sales', 'other_sales', 'total_sales']].head())\n",
    "\n"
   ]
  },
  {
   "cell_type": "markdown",
   "metadata": {},
   "source": [
    "Nueva columna para explicar columna rating"
   ]
  },
  {
   "cell_type": "code",
   "execution_count": 13,
   "metadata": {},
   "outputs": [],
   "source": [
    "# Creamos una función para explicar cada categoría\n",
    "\n",
    "def rating_expanded(x):\n",
    "    if x == 'E' or x == 'K-A':\n",
    "        return 'Everyone'\n",
    "    elif x == 'T':\n",
    "        return 'Teens'\n",
    "    elif x == 'E10+':\n",
    "        return \"Everyone 10y+\"\n",
    "    elif x == 'AO':\n",
    "        return \"Adults onnly\"\n",
    "    elif x == 'RP':\n",
    "        return 'Pending'\n",
    "    elif x == 'EC':\n",
    "        return 'Early Childhood'\n",
    "    elif x == 'M':\n",
    "        return 'Mature'\n",
    "    else:\n",
    "        return 'Pending'\n",
    "    \n",
    "# aplicamos función sobre nueva columna\n",
    "\n",
    "df_games['rating_expanded'] = df_games['rating'].apply(rating_expanded)\n"
   ]
  },
  {
   "cell_type": "markdown",
   "metadata": {},
   "source": [
    "Nueva columna para agrupar juegos por Plataforma"
   ]
  },
  {
   "cell_type": "code",
   "execution_count": 14,
   "metadata": {},
   "outputs": [],
   "source": [
    "# Creamos una función para crear la columna en base a la columna de plataformas\n",
    "\n",
    "def GrupoPlat(x):\n",
    "    if x in ['3DS', 'DS', 'GB', 'GBA', 'GC', 'N64', 'NES', 'SNES', 'Wii', 'WiiU']:\n",
    "        return 'Nintendo'\n",
    "    elif x in ['PC', 'PCFX']:\n",
    "        return 'PC'\n",
    "    elif x in ['PS', 'PS2', 'PS3', 'PS4', 'PS5', 'PSV']:\n",
    "        return 'Playstation'\n",
    "    elif x in ['X360', 'XB', 'XOne']:\n",
    "        return 'XBox'\n",
    "    else: \n",
    "        return 'Other'\n",
    "    \n",
    "df_games['platform_group'] = df_games['platform'].apply(GrupoPlat)\n"
   ]
  },
  {
   "cell_type": "markdown",
   "metadata": {},
   "source": [
    "Eliminar duplicados basados en la entidad del databse, que son juegos con nombre, plataforma y año diferentes."
   ]
  },
  {
   "cell_type": "code",
   "execution_count": 15,
   "metadata": {},
   "outputs": [
    {
     "data": {
      "text/html": [
       "<div>\n",
       "<style scoped>\n",
       "    .dataframe tbody tr th:only-of-type {\n",
       "        vertical-align: middle;\n",
       "    }\n",
       "\n",
       "    .dataframe tbody tr th {\n",
       "        vertical-align: top;\n",
       "    }\n",
       "\n",
       "    .dataframe thead th {\n",
       "        text-align: right;\n",
       "    }\n",
       "</style>\n",
       "<table border=\"1\" class=\"dataframe\">\n",
       "  <thead>\n",
       "    <tr style=\"text-align: right;\">\n",
       "      <th></th>\n",
       "      <th>name</th>\n",
       "      <th>platform</th>\n",
       "      <th>year_of_release</th>\n",
       "      <th>genre</th>\n",
       "      <th>na_sales</th>\n",
       "      <th>eu_sales</th>\n",
       "      <th>jp_sales</th>\n",
       "      <th>other_sales</th>\n",
       "      <th>critic_score</th>\n",
       "      <th>user_score</th>\n",
       "      <th>rating</th>\n",
       "      <th>total_sales</th>\n",
       "      <th>rating_expanded</th>\n",
       "      <th>platform_group</th>\n",
       "    </tr>\n",
       "  </thead>\n",
       "  <tbody>\n",
       "    <tr>\n",
       "      <th>16230</th>\n",
       "      <td>MADDEN NFL 13</td>\n",
       "      <td>PS3</td>\n",
       "      <td>2012</td>\n",
       "      <td>Sports</td>\n",
       "      <td>0.0</td>\n",
       "      <td>0.01</td>\n",
       "      <td>0.00</td>\n",
       "      <td>0.0</td>\n",
       "      <td>83.0</td>\n",
       "      <td>55.0</td>\n",
       "      <td>E</td>\n",
       "      <td>0.01</td>\n",
       "      <td>Everyone</td>\n",
       "      <td>Playstation</td>\n",
       "    </tr>\n",
       "    <tr>\n",
       "      <th>14244</th>\n",
       "      <td>NOT DEFINED</td>\n",
       "      <td>GEN</td>\n",
       "      <td>1993</td>\n",
       "      <td>not defined</td>\n",
       "      <td>0.0</td>\n",
       "      <td>0.00</td>\n",
       "      <td>0.03</td>\n",
       "      <td>0.0</td>\n",
       "      <td>NaN</td>\n",
       "      <td>NaN</td>\n",
       "      <td>NaN</td>\n",
       "      <td>0.03</td>\n",
       "      <td>Pending</td>\n",
       "      <td>Other</td>\n",
       "    </tr>\n",
       "  </tbody>\n",
       "</table>\n",
       "</div>"
      ],
      "text/plain": [
       "                name platform  year_of_release        genre  na_sales  \\\n",
       "16230  MADDEN NFL 13      PS3             2012       Sports       0.0   \n",
       "14244    NOT DEFINED      GEN             1993  not defined       0.0   \n",
       "\n",
       "       eu_sales  jp_sales  other_sales  critic_score  user_score rating  \\\n",
       "16230      0.01      0.00          0.0          83.0        55.0      E   \n",
       "14244      0.00      0.03          0.0           NaN         NaN    NaN   \n",
       "\n",
       "       total_sales rating_expanded platform_group  \n",
       "16230         0.01        Everyone    Playstation  \n",
       "14244         0.03         Pending          Other  "
      ]
     },
     "execution_count": 15,
     "metadata": {},
     "output_type": "execute_result"
    }
   ],
   "source": [
    "df_games[df_games[['name', 'platform','year_of_release']].duplicated()].sort_values(by='name')"
   ]
  },
  {
   "cell_type": "code",
   "execution_count": 16,
   "metadata": {},
   "outputs": [],
   "source": [
    "df_games = df_games.drop_duplicates(subset = ['name', 'platform', 'year_of_release']).reset_index(drop = True)"
   ]
  },
  {
   "cell_type": "code",
   "execution_count": 17,
   "metadata": {},
   "outputs": [
    {
     "name": "stdout",
     "output_type": "stream",
     "text": [
      "<class 'pandas.core.frame.DataFrame'>\n",
      "RangeIndex: 16713 entries, 0 to 16712\n",
      "Data columns (total 14 columns):\n",
      " #   Column           Non-Null Count  Dtype  \n",
      "---  ------           --------------  -----  \n",
      " 0   name             16713 non-null  object \n",
      " 1   platform         16713 non-null  object \n",
      " 2   year_of_release  16713 non-null  int64  \n",
      " 3   genre            16713 non-null  object \n",
      " 4   na_sales         16713 non-null  float64\n",
      " 5   eu_sales         16713 non-null  float64\n",
      " 6   jp_sales         16713 non-null  float64\n",
      " 7   other_sales      16713 non-null  float64\n",
      " 8   critic_score     8136 non-null   float64\n",
      " 9   user_score       7589 non-null   float64\n",
      " 10  rating           9948 non-null   object \n",
      " 11  total_sales      16713 non-null  float64\n",
      " 12  rating_expanded  16713 non-null  object \n",
      " 13  platform_group   16713 non-null  object \n",
      "dtypes: float64(7), int64(1), object(6)\n",
      "memory usage: 1.8+ MB\n"
     ]
    }
   ],
   "source": [
    "df_games.info()"
   ]
  },
  {
   "cell_type": "markdown",
   "metadata": {},
   "source": [
    "*Guardar resultado"
   ]
  },
  {
   "cell_type": "code",
   "execution_count": 19,
   "metadata": {},
   "outputs": [],
   "source": [
    "df_games.to_csv('games_clean.csv', index =False)"
   ]
  }
 ],
 "metadata": {
  "kernelspec": {
   "display_name": "Python 3",
   "language": "python",
   "name": "python3"
  },
  "language_info": {
   "codemirror_mode": {
    "name": "ipython",
    "version": 3
   },
   "file_extension": ".py",
   "mimetype": "text/x-python",
   "name": "python",
   "nbconvert_exporter": "python",
   "pygments_lexer": "ipython3",
   "version": "3.9.6"
  }
 },
 "nbformat": 4,
 "nbformat_minor": 2
}
