{
 "cells": [
  {
   "cell_type": "markdown",
   "metadata": {},
   "source": [
    "En este script se realiza la limpieza y preparación de los datos antes de analizarlos"
   ]
  },
  {
   "cell_type": "code",
   "execution_count": 1,
   "metadata": {},
   "outputs": [],
   "source": [
    "# Librerías\n",
    "import pandas as pd\n",
    "import numpy as np"
   ]
  },
  {
   "cell_type": "code",
   "execution_count": 2,
   "metadata": {},
   "outputs": [],
   "source": [
    "# Cargar los datos desde el directorio principal\n",
    "df_games = pd.read_csv('df_games.csv')\n"
   ]
  },
  {
   "cell_type": "code",
   "execution_count": 3,
   "metadata": {},
   "outputs": [
    {
     "name": "stdout",
     "output_type": "stream",
     "text": [
      "<class 'pandas.core.frame.DataFrame'>\n",
      "RangeIndex: 16715 entries, 0 to 16714\n",
      "Data columns (total 11 columns):\n",
      " #   Column           Non-Null Count  Dtype  \n",
      "---  ------           --------------  -----  \n",
      " 0   Name             16713 non-null  object \n",
      " 1   Platform         16715 non-null  object \n",
      " 2   Year_of_Release  16446 non-null  float64\n",
      " 3   Genre            16713 non-null  object \n",
      " 4   NA_sales         16715 non-null  float64\n",
      " 5   EU_sales         16715 non-null  float64\n",
      " 6   JP_sales         16715 non-null  float64\n",
      " 7   Other_sales      16715 non-null  float64\n",
      " 8   Critic_Score     8137 non-null   float64\n",
      " 9   User_Score       10014 non-null  object \n",
      " 10  Rating           9949 non-null   object \n",
      "dtypes: float64(6), object(5)\n",
      "memory usage: 1.4+ MB\n"
     ]
    }
   ],
   "source": [
    "# ver info\n",
    "df_games.info()"
   ]
  },
  {
   "cell_type": "code",
   "execution_count": 4,
   "metadata": {},
   "outputs": [
    {
     "data": {
      "text/html": [
       "<div>\n",
       "<style scoped>\n",
       "    .dataframe tbody tr th:only-of-type {\n",
       "        vertical-align: middle;\n",
       "    }\n",
       "\n",
       "    .dataframe tbody tr th {\n",
       "        vertical-align: top;\n",
       "    }\n",
       "\n",
       "    .dataframe thead th {\n",
       "        text-align: right;\n",
       "    }\n",
       "</style>\n",
       "<table border=\"1\" class=\"dataframe\">\n",
       "  <thead>\n",
       "    <tr style=\"text-align: right;\">\n",
       "      <th></th>\n",
       "      <th>Name</th>\n",
       "      <th>Platform</th>\n",
       "      <th>Year_of_Release</th>\n",
       "      <th>Genre</th>\n",
       "      <th>NA_sales</th>\n",
       "      <th>EU_sales</th>\n",
       "      <th>JP_sales</th>\n",
       "      <th>Other_sales</th>\n",
       "      <th>Critic_Score</th>\n",
       "      <th>User_Score</th>\n",
       "      <th>Rating</th>\n",
       "    </tr>\n",
       "  </thead>\n",
       "  <tbody>\n",
       "    <tr>\n",
       "      <th>8922</th>\n",
       "      <td>Batman Begins</td>\n",
       "      <td>GC</td>\n",
       "      <td>2005.0</td>\n",
       "      <td>Action</td>\n",
       "      <td>0.11</td>\n",
       "      <td>0.03</td>\n",
       "      <td>0.00</td>\n",
       "      <td>0.00</td>\n",
       "      <td>66.0</td>\n",
       "      <td>7.2</td>\n",
       "      <td>T</td>\n",
       "    </tr>\n",
       "    <tr>\n",
       "      <th>15635</th>\n",
       "      <td>The Mummy</td>\n",
       "      <td>GBA</td>\n",
       "      <td>2002.0</td>\n",
       "      <td>Action</td>\n",
       "      <td>0.01</td>\n",
       "      <td>0.00</td>\n",
       "      <td>0.00</td>\n",
       "      <td>0.00</td>\n",
       "      <td>72.0</td>\n",
       "      <td>tbd</td>\n",
       "      <td>E</td>\n",
       "    </tr>\n",
       "    <tr>\n",
       "      <th>12937</th>\n",
       "      <td>Jissen Pachislot Hisshouhou! Hokuto no Ken DS SE</td>\n",
       "      <td>DS</td>\n",
       "      <td>2006.0</td>\n",
       "      <td>Misc</td>\n",
       "      <td>0.00</td>\n",
       "      <td>0.00</td>\n",
       "      <td>0.05</td>\n",
       "      <td>0.00</td>\n",
       "      <td>NaN</td>\n",
       "      <td>NaN</td>\n",
       "      <td>NaN</td>\n",
       "    </tr>\n",
       "    <tr>\n",
       "      <th>7001</th>\n",
       "      <td>Cross Edge</td>\n",
       "      <td>PS3</td>\n",
       "      <td>2008.0</td>\n",
       "      <td>Role-Playing</td>\n",
       "      <td>0.14</td>\n",
       "      <td>0.02</td>\n",
       "      <td>0.05</td>\n",
       "      <td>0.02</td>\n",
       "      <td>52.0</td>\n",
       "      <td>7.2</td>\n",
       "      <td>T</td>\n",
       "    </tr>\n",
       "    <tr>\n",
       "      <th>7181</th>\n",
       "      <td>Rapala's Fishing Frenzy</td>\n",
       "      <td>Wii</td>\n",
       "      <td>2008.0</td>\n",
       "      <td>Sports</td>\n",
       "      <td>0.20</td>\n",
       "      <td>0.00</td>\n",
       "      <td>0.00</td>\n",
       "      <td>0.02</td>\n",
       "      <td>61.0</td>\n",
       "      <td>tbd</td>\n",
       "      <td>E</td>\n",
       "    </tr>\n",
       "    <tr>\n",
       "      <th>10293</th>\n",
       "      <td>Langrisser IV</td>\n",
       "      <td>SAT</td>\n",
       "      <td>1997.0</td>\n",
       "      <td>Strategy</td>\n",
       "      <td>0.00</td>\n",
       "      <td>0.00</td>\n",
       "      <td>0.11</td>\n",
       "      <td>0.00</td>\n",
       "      <td>NaN</td>\n",
       "      <td>NaN</td>\n",
       "      <td>NaN</td>\n",
       "    </tr>\n",
       "    <tr>\n",
       "      <th>9312</th>\n",
       "      <td>Backyard Soccer</td>\n",
       "      <td>PS</td>\n",
       "      <td>2001.0</td>\n",
       "      <td>Sports</td>\n",
       "      <td>0.07</td>\n",
       "      <td>0.05</td>\n",
       "      <td>0.00</td>\n",
       "      <td>0.01</td>\n",
       "      <td>NaN</td>\n",
       "      <td>tbd</td>\n",
       "      <td>E</td>\n",
       "    </tr>\n",
       "    <tr>\n",
       "      <th>2582</th>\n",
       "      <td>Ridge Racer</td>\n",
       "      <td>PS</td>\n",
       "      <td>1994.0</td>\n",
       "      <td>Racing</td>\n",
       "      <td>0.00</td>\n",
       "      <td>0.00</td>\n",
       "      <td>0.74</td>\n",
       "      <td>0.05</td>\n",
       "      <td>NaN</td>\n",
       "      <td>NaN</td>\n",
       "      <td>NaN</td>\n",
       "    </tr>\n",
       "    <tr>\n",
       "      <th>15040</th>\n",
       "      <td>Reco Love: Blue Ocean</td>\n",
       "      <td>PSV</td>\n",
       "      <td>2016.0</td>\n",
       "      <td>Adventure</td>\n",
       "      <td>0.00</td>\n",
       "      <td>0.00</td>\n",
       "      <td>0.02</td>\n",
       "      <td>0.00</td>\n",
       "      <td>NaN</td>\n",
       "      <td>NaN</td>\n",
       "      <td>NaN</td>\n",
       "    </tr>\n",
       "    <tr>\n",
       "      <th>7028</th>\n",
       "      <td>Airblade</td>\n",
       "      <td>PS2</td>\n",
       "      <td>2001.0</td>\n",
       "      <td>Sports</td>\n",
       "      <td>0.11</td>\n",
       "      <td>0.09</td>\n",
       "      <td>0.00</td>\n",
       "      <td>0.03</td>\n",
       "      <td>70.0</td>\n",
       "      <td>5.8</td>\n",
       "      <td>T</td>\n",
       "    </tr>\n",
       "  </tbody>\n",
       "</table>\n",
       "</div>"
      ],
      "text/plain": [
       "                                                   Name Platform  \\\n",
       "8922                                      Batman Begins       GC   \n",
       "15635                                         The Mummy      GBA   \n",
       "12937  Jissen Pachislot Hisshouhou! Hokuto no Ken DS SE       DS   \n",
       "7001                                         Cross Edge      PS3   \n",
       "7181                            Rapala's Fishing Frenzy      Wii   \n",
       "10293                                     Langrisser IV      SAT   \n",
       "9312                                    Backyard Soccer       PS   \n",
       "2582                                        Ridge Racer       PS   \n",
       "15040                             Reco Love: Blue Ocean      PSV   \n",
       "7028                                           Airblade      PS2   \n",
       "\n",
       "       Year_of_Release         Genre  NA_sales  EU_sales  JP_sales  \\\n",
       "8922            2005.0        Action      0.11      0.03      0.00   \n",
       "15635           2002.0        Action      0.01      0.00      0.00   \n",
       "12937           2006.0          Misc      0.00      0.00      0.05   \n",
       "7001            2008.0  Role-Playing      0.14      0.02      0.05   \n",
       "7181            2008.0        Sports      0.20      0.00      0.00   \n",
       "10293           1997.0      Strategy      0.00      0.00      0.11   \n",
       "9312            2001.0        Sports      0.07      0.05      0.00   \n",
       "2582            1994.0        Racing      0.00      0.00      0.74   \n",
       "15040           2016.0     Adventure      0.00      0.00      0.02   \n",
       "7028            2001.0        Sports      0.11      0.09      0.00   \n",
       "\n",
       "       Other_sales  Critic_Score User_Score Rating  \n",
       "8922          0.00          66.0        7.2      T  \n",
       "15635         0.00          72.0        tbd      E  \n",
       "12937         0.00           NaN        NaN    NaN  \n",
       "7001          0.02          52.0        7.2      T  \n",
       "7181          0.02          61.0        tbd      E  \n",
       "10293         0.00           NaN        NaN    NaN  \n",
       "9312          0.01           NaN        tbd      E  \n",
       "2582          0.05           NaN        NaN    NaN  \n",
       "15040         0.00           NaN        NaN    NaN  \n",
       "7028          0.03          70.0        5.8      T  "
      ]
     },
     "execution_count": 4,
     "metadata": {},
     "output_type": "execute_result"
    }
   ],
   "source": [
    "df_games.sample(10)"
   ]
  },
  {
   "cell_type": "code",
   "execution_count": 5,
   "metadata": {},
   "outputs": [
    {
     "data": {
      "text/plain": [
       "Index(['name', 'platform', 'year_of_release', 'genre', 'na_sales', 'eu_sales',\n",
       "       'jp_sales', 'other_sales', 'critic_score', 'user_score', 'rating'],\n",
       "      dtype='object')"
      ]
     },
     "execution_count": 5,
     "metadata": {},
     "output_type": "execute_result"
    }
   ],
   "source": [
    "df_games.columns = df_games.columns.str.lower()\n",
    "df_games.columns\n"
   ]
  },
  {
   "cell_type": "markdown",
   "metadata": {},
   "source": [
    "Columna 'year_of_release'"
   ]
  },
  {
   "cell_type": "code",
   "execution_count": 6,
   "metadata": {},
   "outputs": [
    {
     "data": {
      "text/plain": [
       "array([2006, 1985, 2008, 2009, 1996, 1989, 1984, 2005, 1999, 2007, 2010,\n",
       "       2013, 2004, 1990, 1988, 2002, 2001, 2011, 1998, 2015, 2012, 2014,\n",
       "       1992, 1997, 1993, 1994, 1982, 2016, 2003, 1986, 2000, 1995, 1991,\n",
       "       1981, 1987, 1980, 1983])"
      ]
     },
     "execution_count": 6,
     "metadata": {},
     "output_type": "execute_result"
    }
   ],
   "source": [
    "# Year of release a int\n",
    "# También eliminaremos los catos faltantes ya que éstos nos estropearán el análisis\n",
    "\n",
    "df_games = df_games.dropna(subset=['year_of_release'])\n",
    "df_games['year_of_release'] = df_games['year_of_release'].astype('int')\n",
    "df_games['year_of_release'].dtypes\n",
    "\n",
    "df_games.year_of_release.unique()\n"
   ]
  },
  {
   "cell_type": "markdown",
   "metadata": {},
   "source": [
    "Columna 'user_score'"
   ]
  },
  {
   "cell_type": "code",
   "execution_count": 7,
   "metadata": {},
   "outputs": [
    {
     "name": "stdout",
     "output_type": "stream",
     "text": [
      "<class 'pandas.core.series.Series'>\n",
      "Int64Index: 16446 entries, 0 to 16714\n",
      "Series name: user_score\n",
      "Non-Null Count  Dtype  \n",
      "--------------  -----  \n",
      "7463 non-null   float64\n",
      "dtypes: float64(1)\n",
      "memory usage: 257.0 KB\n"
     ]
    }
   ],
   "source": [
    "# Columna 'user_score' a float\n",
    "\n",
    "df_games['user_score'].unique()\n",
    "df_games['user_score'] = df_games['user_score'].replace('tbd', np.nan)\n",
    "df_games['user_score'] = df_games['user_score'].astype(float)\n",
    "df_games.user_score.info()"
   ]
  },
  {
   "cell_type": "markdown",
   "metadata": {},
   "source": [
    "Columna 'name'"
   ]
  },
  {
   "cell_type": "code",
   "execution_count": 8,
   "metadata": {},
   "outputs": [
    {
     "name": "stderr",
     "output_type": "stream",
     "text": [
      "C:\\Users\\User\\AppData\\Local\\Temp\\ipykernel_19632\\3036584810.py:4: FutureWarning: The default value of regex will change from True to False in a future version. In addition, single character regular expressions will *not* be treated as literal strings when regex=True.\n",
      "  df_games['name'] = df_games['name'].str.replace(',', '').str.replace('.', '').str.replace(';','').str.replace(':','')\n"
     ]
    },
    {
     "data": {
      "text/plain": [
       "False"
      ]
     },
     "execution_count": 8,
     "metadata": {},
     "output_type": "execute_result"
    }
   ],
   "source": [
    "# Datos faltantes en 'name'  \n",
    "df_games['name'] = df_games['name'].fillna('NOT DEFINED')\n",
    "df_games['name'] = df_games['name'].str.upper()\n",
    "df_games['name'] = df_games['name'].str.replace(',', '').str.replace('.', '').str.replace(';','').str.replace(':','')\n",
    "df_games['name'] = df_games['name'].str.strip(' ')\n",
    "df_games.name.isna().any()"
   ]
  },
  {
   "cell_type": "code",
   "execution_count": 9,
   "metadata": {},
   "outputs": [
    {
     "data": {
      "text/plain": [
       "9778                                   DANCE PARADISE\n",
       "13057                       KAMEN RIDER DRAGON KNIGHT\n",
       "7381                          BRATZ GIRLZ REALLY ROCK\n",
       "15402                              AQUANAUT'S HOLIDAY\n",
       "8360                     BEAT DOWN FISTS OF VENGEANCE\n",
       "5885                                SUPER BOMBERMAN 5\n",
       "15220    MOUJUUTSUKAI TO OUJISAMA SNOW BRIDE PORTABLE\n",
       "11364                  JIKKYOU POWERFUL PRO YAKYUU 12\n",
       "4753                                   DRAGON QUEST X\n",
       "8106                                      VAN HELSING\n",
       "Name: name, dtype: object"
      ]
     },
     "execution_count": 9,
     "metadata": {},
     "output_type": "execute_result"
    }
   ],
   "source": [
    "df_games.name.sample(10)"
   ]
  },
  {
   "cell_type": "markdown",
   "metadata": {},
   "source": [
    "Columna 'genre'"
   ]
  },
  {
   "cell_type": "code",
   "execution_count": 10,
   "metadata": {},
   "outputs": [
    {
     "data": {
      "text/plain": [
       "False"
      ]
     },
     "execution_count": 10,
     "metadata": {},
     "output_type": "execute_result"
    }
   ],
   "source": [
    "# Datos faltantes en 'genre' \n",
    "df_games[df_games.genre.isnull()]\n",
    "df_games['genre'] = df_games['genre'].fillna('not defined')\n",
    "df_games.genre.isna().any()"
   ]
  },
  {
   "cell_type": "markdown",
   "metadata": {},
   "source": [
    "Columna 'user_score' y 'critic_score' en la misma nomenclatura"
   ]
  },
  {
   "cell_type": "code",
   "execution_count": 11,
   "metadata": {},
   "outputs": [
    {
     "data": {
      "text/html": [
       "<div>\n",
       "<style scoped>\n",
       "    .dataframe tbody tr th:only-of-type {\n",
       "        vertical-align: middle;\n",
       "    }\n",
       "\n",
       "    .dataframe tbody tr th {\n",
       "        vertical-align: top;\n",
       "    }\n",
       "\n",
       "    .dataframe thead th {\n",
       "        text-align: right;\n",
       "    }\n",
       "</style>\n",
       "<table border=\"1\" class=\"dataframe\">\n",
       "  <thead>\n",
       "    <tr style=\"text-align: right;\">\n",
       "      <th></th>\n",
       "      <th>user_score</th>\n",
       "      <th>critic_score</th>\n",
       "    </tr>\n",
       "  </thead>\n",
       "  <tbody>\n",
       "    <tr>\n",
       "      <th>count</th>\n",
       "      <td>7463.000000</td>\n",
       "      <td>7983.000000</td>\n",
       "    </tr>\n",
       "    <tr>\n",
       "      <th>mean</th>\n",
       "      <td>71.263299</td>\n",
       "      <td>68.994363</td>\n",
       "    </tr>\n",
       "    <tr>\n",
       "      <th>std</th>\n",
       "      <td>14.994467</td>\n",
       "      <td>13.920060</td>\n",
       "    </tr>\n",
       "    <tr>\n",
       "      <th>min</th>\n",
       "      <td>0.000000</td>\n",
       "      <td>13.000000</td>\n",
       "    </tr>\n",
       "    <tr>\n",
       "      <th>25%</th>\n",
       "      <td>64.000000</td>\n",
       "      <td>60.000000</td>\n",
       "    </tr>\n",
       "    <tr>\n",
       "      <th>50%</th>\n",
       "      <td>75.000000</td>\n",
       "      <td>71.000000</td>\n",
       "    </tr>\n",
       "    <tr>\n",
       "      <th>75%</th>\n",
       "      <td>82.000000</td>\n",
       "      <td>79.000000</td>\n",
       "    </tr>\n",
       "    <tr>\n",
       "      <th>max</th>\n",
       "      <td>97.000000</td>\n",
       "      <td>98.000000</td>\n",
       "    </tr>\n",
       "  </tbody>\n",
       "</table>\n",
       "</div>"
      ],
      "text/plain": [
       "        user_score  critic_score\n",
       "count  7463.000000   7983.000000\n",
       "mean     71.263299     68.994363\n",
       "std      14.994467     13.920060\n",
       "min       0.000000     13.000000\n",
       "25%      64.000000     60.000000\n",
       "50%      75.000000     71.000000\n",
       "75%      82.000000     79.000000\n",
       "max      97.000000     98.000000"
      ]
     },
     "execution_count": 11,
     "metadata": {},
     "output_type": "execute_result"
    }
   ],
   "source": [
    "df_games['user_score'] = df_games['user_score'] * 10\n",
    "df_games[['user_score', 'critic_score']].describe()\n"
   ]
  },
  {
   "cell_type": "markdown",
   "metadata": {},
   "source": [
    "Columna de ventas totales"
   ]
  },
  {
   "cell_type": "code",
   "execution_count": 12,
   "metadata": {},
   "outputs": [
    {
     "name": "stdout",
     "output_type": "stream",
     "text": [
      "   na_sales  jp_sales  eu_sales  other_sales  total_sales\n",
      "0     41.36      3.77     28.96         8.45        82.54\n",
      "1     29.08      6.81      3.58         0.77        40.24\n",
      "2     15.68      3.79     12.76         3.29        35.52\n",
      "3     15.61      3.28     10.93         2.95        32.77\n",
      "4     11.27     10.22      8.89         1.00        31.38\n"
     ]
    }
   ],
   "source": [
    "# Sumamos las ventas de todas las columnas y creamos una nueva con los totales\n",
    "\n",
    "df_games['total_sales'] = df_games[['na_sales', 'jp_sales', 'eu_sales', 'other_sales']].sum(axis=1)\n",
    "print(df_games[['na_sales', 'jp_sales', 'eu_sales', 'other_sales', 'total_sales']].head())\n",
    "\n"
   ]
  },
  {
   "cell_type": "markdown",
   "metadata": {},
   "source": [
    "Nueva columna para explicar columna rating"
   ]
  },
  {
   "cell_type": "code",
   "execution_count": 13,
   "metadata": {},
   "outputs": [],
   "source": [
    "# Creamos una función para explicar cada categoría\n",
    "\n",
    "def rating_expanded(x):\n",
    "    if x == 'E' or x == 'K-A':\n",
    "        return 'Everyone'\n",
    "    elif x == 'T':\n",
    "        return 'Teens'\n",
    "    elif x == 'E10+':\n",
    "        return \"Everyone 10y+\"\n",
    "    elif x == 'AO':\n",
    "        return \"Adults onnly\"\n",
    "    elif x == 'RP':\n",
    "        return 'Pending'\n",
    "    elif x == 'EC':\n",
    "        return 'Early Childhood'\n",
    "    elif x == 'M':\n",
    "        return 'Mature'\n",
    "    else:\n",
    "        return 'Pending'\n",
    "    \n",
    "# aplicamos función sobre nueva columna\n",
    "\n",
    "df_games['rating_expanded'] = df_games['rating'].apply(rating_expanded)\n"
   ]
  },
  {
   "cell_type": "markdown",
   "metadata": {},
   "source": [
    "Nueva columna para agrupar juegos por Plataforma"
   ]
  },
  {
   "cell_type": "code",
   "execution_count": 14,
   "metadata": {},
   "outputs": [],
   "source": [
    "# Creamos una función para crear la columna en base a la columna de plataformas\n",
    "\n",
    "def GrupoPlat(x):\n",
    "    if x in ['3DS', 'DS', 'GB', 'GBA', 'GC', 'N64', 'NES', 'SNES', 'Wii', 'WiiU']:\n",
    "        return 'Nintendo'\n",
    "    elif x in ['PC', 'PCFX']:\n",
    "        return 'PC'\n",
    "    elif x in ['PS', 'PS2', 'PS3', 'PS4', 'PS5', 'PSV']:\n",
    "        return 'Playstation'\n",
    "    elif x in ['X360', 'XB', 'XOne']:\n",
    "        return 'XBox'\n",
    "    else: \n",
    "        return 'Other'\n",
    "    \n",
    "df_games['platform_group'] = df_games['platform'].apply(GrupoPlat)\n"
   ]
  },
  {
   "cell_type": "markdown",
   "metadata": {},
   "source": [
    "Eliminar duplicados basados en la entidad del databse, que son juegos con nombre, plataforma y año diferentes."
   ]
  },
  {
   "cell_type": "code",
   "execution_count": 15,
   "metadata": {},
   "outputs": [
    {
     "data": {
      "text/html": [
       "<div>\n",
       "<style scoped>\n",
       "    .dataframe tbody tr th:only-of-type {\n",
       "        vertical-align: middle;\n",
       "    }\n",
       "\n",
       "    .dataframe tbody tr th {\n",
       "        vertical-align: top;\n",
       "    }\n",
       "\n",
       "    .dataframe thead th {\n",
       "        text-align: right;\n",
       "    }\n",
       "</style>\n",
       "<table border=\"1\" class=\"dataframe\">\n",
       "  <thead>\n",
       "    <tr style=\"text-align: right;\">\n",
       "      <th></th>\n",
       "      <th>name</th>\n",
       "      <th>platform</th>\n",
       "      <th>year_of_release</th>\n",
       "      <th>genre</th>\n",
       "      <th>na_sales</th>\n",
       "      <th>eu_sales</th>\n",
       "      <th>jp_sales</th>\n",
       "      <th>other_sales</th>\n",
       "      <th>critic_score</th>\n",
       "      <th>user_score</th>\n",
       "      <th>rating</th>\n",
       "      <th>total_sales</th>\n",
       "      <th>rating_expanded</th>\n",
       "      <th>platform_group</th>\n",
       "    </tr>\n",
       "  </thead>\n",
       "  <tbody>\n",
       "    <tr>\n",
       "      <th>16230</th>\n",
       "      <td>MADDEN NFL 13</td>\n",
       "      <td>PS3</td>\n",
       "      <td>2012</td>\n",
       "      <td>Sports</td>\n",
       "      <td>0.0</td>\n",
       "      <td>0.01</td>\n",
       "      <td>0.00</td>\n",
       "      <td>0.0</td>\n",
       "      <td>83.0</td>\n",
       "      <td>55.0</td>\n",
       "      <td>E</td>\n",
       "      <td>0.01</td>\n",
       "      <td>Everyone</td>\n",
       "      <td>Playstation</td>\n",
       "    </tr>\n",
       "    <tr>\n",
       "      <th>14244</th>\n",
       "      <td>NOT DEFINED</td>\n",
       "      <td>GEN</td>\n",
       "      <td>1993</td>\n",
       "      <td>not defined</td>\n",
       "      <td>0.0</td>\n",
       "      <td>0.00</td>\n",
       "      <td>0.03</td>\n",
       "      <td>0.0</td>\n",
       "      <td>NaN</td>\n",
       "      <td>NaN</td>\n",
       "      <td>NaN</td>\n",
       "      <td>0.03</td>\n",
       "      <td>Pending</td>\n",
       "      <td>Other</td>\n",
       "    </tr>\n",
       "  </tbody>\n",
       "</table>\n",
       "</div>"
      ],
      "text/plain": [
       "                name platform  year_of_release        genre  na_sales  \\\n",
       "16230  MADDEN NFL 13      PS3             2012       Sports       0.0   \n",
       "14244    NOT DEFINED      GEN             1993  not defined       0.0   \n",
       "\n",
       "       eu_sales  jp_sales  other_sales  critic_score  user_score rating  \\\n",
       "16230      0.01      0.00          0.0          83.0        55.0      E   \n",
       "14244      0.00      0.03          0.0           NaN         NaN    NaN   \n",
       "\n",
       "       total_sales rating_expanded platform_group  \n",
       "16230         0.01        Everyone    Playstation  \n",
       "14244         0.03         Pending          Other  "
      ]
     },
     "execution_count": 15,
     "metadata": {},
     "output_type": "execute_result"
    }
   ],
   "source": [
    "df_games[df_games[['name', 'platform','year_of_release']].duplicated()].sort_values(by='name')"
   ]
  },
  {
   "cell_type": "code",
   "execution_count": 16,
   "metadata": {},
   "outputs": [],
   "source": [
    "df_games = df_games.drop_duplicates(subset = ['name', 'platform', 'year_of_release']).reset_index(drop = True)"
   ]
  },
  {
   "cell_type": "markdown",
   "metadata": {},
   "source": [
    "#### Nota: Encontramos que la fecha del lanzamiento para el juego STRONGEST TOKYO UNIVERSITY SHOGI DS era incorrecta, la corregiremos"
   ]
  },
  {
   "cell_type": "code",
   "execution_count": 17,
   "metadata": {},
   "outputs": [],
   "source": [
    "# Filtrar el juego específico\n",
    "df_games.loc[df_games['name'] == 'STRONGEST TOKYO UNIVERSITY SHOGI DS', 'year_of_release'] = 2007"
   ]
  },
  {
   "cell_type": "code",
   "execution_count": 18,
   "metadata": {},
   "outputs": [
    {
     "name": "stdout",
     "output_type": "stream",
     "text": [
      "<class 'pandas.core.frame.DataFrame'>\n",
      "RangeIndex: 16444 entries, 0 to 16443\n",
      "Data columns (total 14 columns):\n",
      " #   Column           Non-Null Count  Dtype  \n",
      "---  ------           --------------  -----  \n",
      " 0   name             16444 non-null  object \n",
      " 1   platform         16444 non-null  object \n",
      " 2   year_of_release  16444 non-null  int32  \n",
      " 3   genre            16444 non-null  object \n",
      " 4   na_sales         16444 non-null  float64\n",
      " 5   eu_sales         16444 non-null  float64\n",
      " 6   jp_sales         16444 non-null  float64\n",
      " 7   other_sales      16444 non-null  float64\n",
      " 8   critic_score     7982 non-null   float64\n",
      " 9   user_score       7462 non-null   float64\n",
      " 10  rating           9767 non-null   object \n",
      " 11  total_sales      16444 non-null  float64\n",
      " 12  rating_expanded  16444 non-null  object \n",
      " 13  platform_group   16444 non-null  object \n",
      "dtypes: float64(7), int32(1), object(6)\n",
      "memory usage: 1.7+ MB\n"
     ]
    }
   ],
   "source": [
    "df_games.info()"
   ]
  },
  {
   "cell_type": "markdown",
   "metadata": {},
   "source": [
    "*Guardar resultado"
   ]
  },
  {
   "cell_type": "code",
   "execution_count": 19,
   "metadata": {},
   "outputs": [],
   "source": [
    "df_games.to_csv('games_clean.csv', index =False)"
   ]
  }
 ],
 "metadata": {
  "kernelspec": {
   "display_name": "Python 3",
   "language": "python",
   "name": "python3"
  },
  "language_info": {
   "codemirror_mode": {
    "name": "ipython",
    "version": 3
   },
   "file_extension": ".py",
   "mimetype": "text/x-python",
   "name": "python",
   "nbconvert_exporter": "python",
   "pygments_lexer": "ipython3",
   "version": "3.9.6"
  }
 },
 "nbformat": 4,
 "nbformat_minor": 2
}
